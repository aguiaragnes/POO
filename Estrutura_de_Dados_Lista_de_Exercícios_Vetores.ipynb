{
  "nbformat": 4,
  "nbformat_minor": 0,
  "metadata": {
    "colab": {
      "provenance": [],
      "include_colab_link": true
    },
    "kernelspec": {
      "name": "python3",
      "display_name": "Python 3"
    }
  },
  "cells": [
    {
      "cell_type": "markdown",
      "metadata": {
        "id": "view-in-github",
        "colab_type": "text"
      },
      "source": [
        "<a href=\"https://colab.research.google.com/github/aguiaragnes/POO/blob/main/Estrutura_de_Dados_Lista_de_Exerc%C3%ADcios_Vetores.ipynb\" target=\"_parent\"><img src=\"https://colab.research.google.com/assets/colab-badge.svg\" alt=\"Open In Colab\"/></a>"
      ]
    },
    {
      "cell_type": "markdown",
      "metadata": {
        "id": "d_txRBvS2TDc"
      },
      "source": [
        "# Estrutura de Dados (IFPB)\n",
        "Prof.: Diego Pessoa\n",
        "\n",
        "\n",
        "## Lista de Exercícios - Vetores"
      ]
    },
    {
      "cell_type": "markdown",
      "metadata": {
        "id": "U6t9XwTc2fq2"
      },
      "source": [
        "1. Faça um programa que possua um vetor denominado A que armazene 6 números inteiros. O programa deve executar os seguintes passos:\n",
        "Atribua os seguintes valores a esse vetor: 1, 0, 5, -2, -5, 7.\n",
        "Armazene em uma variável inteira (simples) a soma entre os valores das posições A[0], A[1] e A[5] do vetor e mostre na tela esta soma.\n",
        "Modifique o vetor na posição 4, atribuindo a esta posição o valor 100.\n",
        "Mostre na tela cada valor do vetor A, um em cada linha.\n"
      ]
    },
    {
      "cell_type": "code",
      "metadata": {
        "id": "jqLP0uUX2RhK"
      },
      "source": [],
      "execution_count": null,
      "outputs": []
    },
    {
      "cell_type": "markdown",
      "metadata": {
        "id": "vh2YJWu_2jnF"
      },
      "source": [
        "2. Crie um programa que lê 6 valores inteiros e, em seguida, mostre na tela os valores lidos.\n"
      ]
    },
    {
      "cell_type": "code",
      "metadata": {
        "id": "f8MgMTae2go3"
      },
      "source": [],
      "execution_count": null,
      "outputs": []
    },
    {
      "cell_type": "markdown",
      "metadata": {
        "id": "MuDD_PLU2n4m"
      },
      "source": [
        "3. Leia\n",
        " um conjunto de números reais, armazenando-o em vetor e calcular o quadrado dos componentes deste vetor, armazenando o resultado em outro vetor. Os conjuntos têm 10 elementos cada. Imprimir todos os conjuntos."
      ]
    },
    {
      "cell_type": "code",
      "metadata": {
        "id": "c-AQ9mA12qFw"
      },
      "source": [],
      "execution_count": null,
      "outputs": []
    },
    {
      "cell_type": "markdown",
      "metadata": {
        "id": "jk1MAaFp2u01"
      },
      "source": [
        "4. Faça um programa que leia um vetor de 8 posições e, em seguida, leia também dois valores X e Y quaisquer correspondentes a duas posições no vetor. Ao final, seu programa deverá escrever a soma dos valores encontrados nas respectivas posições X e Y."
      ]
    },
    {
      "cell_type": "code",
      "metadata": {
        "id": "4O46Kv8e2tjx"
      },
      "source": [],
      "execution_count": null,
      "outputs": []
    },
    {
      "cell_type": "markdown",
      "metadata": {
        "id": "oNGlsorp2xGX"
      },
      "source": [
        "5. Leia um vetor de 10 posições. Contar e escrever quantos valores pares ele possui."
      ]
    },
    {
      "cell_type": "code",
      "metadata": {
        "id": "iTM-hs_y2wop"
      },
      "source": [],
      "execution_count": null,
      "outputs": []
    },
    {
      "cell_type": "markdown",
      "metadata": {
        "id": "5Q3wXZZO21cG"
      },
      "source": [
        "6. Faça um programa que receba do usuário um vetor com 10 posições. Em seguida deverá ser impresso o maior e o menor elemento do vetor.\n"
      ]
    },
    {
      "cell_type": "code",
      "metadata": {
        "id": "-002ZzkO21Ht"
      },
      "source": [],
      "execution_count": null,
      "outputs": []
    },
    {
      "cell_type": "markdown",
      "metadata": {
        "id": "5esanRgf25Za"
      },
      "source": [
        "7. Escreva um programa que leia 10 números inteiros e os armazene em um vetor. Imprima o vetor, o maior elemento e a posição que ele se encontra."
      ]
    },
    {
      "cell_type": "code",
      "metadata": {
        "id": "D5_27-2c255B"
      },
      "source": [],
      "execution_count": null,
      "outputs": []
    },
    {
      "cell_type": "markdown",
      "metadata": {
        "id": "gLB67R-D26rg"
      },
      "source": [
        "8. Crie um programa que lê 6 valores inteiros e, em seguida, mostre na tela os valores lidos na ordem inversa.\n"
      ]
    },
    {
      "cell_type": "code",
      "metadata": {
        "id": "IAwVWr6x27ud"
      },
      "source": [],
      "execution_count": null,
      "outputs": []
    },
    {
      "cell_type": "markdown",
      "metadata": {
        "id": "ttnEP4pe28i7"
      },
      "source": [
        "9. Crie um programa que lê 6 valores inteiros pares e, em seguida, mostre na tela os valores lidos na ordem inversa."
      ]
    },
    {
      "cell_type": "code",
      "metadata": {
        "id": "Zes4sGkB3COI"
      },
      "source": [],
      "execution_count": null,
      "outputs": []
    },
    {
      "cell_type": "markdown",
      "metadata": {
        "id": "TFzf5Njd2_LJ"
      },
      "source": [
        "10. Faça um programa para ler a nota da prova de 15 alunos e armazene num vetor, calcule e imprima a média geral."
      ]
    },
    {
      "cell_type": "code",
      "metadata": {
        "id": "Kxjrc2mW3Eix"
      },
      "source": [],
      "execution_count": null,
      "outputs": []
    },
    {
      "cell_type": "markdown",
      "metadata": {
        "id": "eqe8HAbN3FZQ"
      },
      "source": [
        "11. Faça um programa que preencha um vetor com 10 números reais, calcule e mostre a quantidade de números negativos e a soma dos números positivos desse vetor."
      ]
    },
    {
      "cell_type": "code",
      "metadata": {
        "id": "anBwqGQZ3GPW"
      },
      "source": [],
      "execution_count": null,
      "outputs": []
    },
    {
      "cell_type": "markdown",
      "metadata": {
        "id": "eCgpXcjy3HRS"
      },
      "source": [
        "12. Fazer um programa para ler 5 valores e, em seguida, mostrar todos os valores lidos juntamente com o maior, o menor e a média dos valores."
      ]
    },
    {
      "cell_type": "code",
      "metadata": {
        "id": "F7rLuGG23IWh"
      },
      "source": [],
      "execution_count": null,
      "outputs": []
    },
    {
      "cell_type": "markdown",
      "metadata": {
        "id": "U8KFL7Mr3I6k"
      },
      "source": [
        "13. Fazer um programa para ler 5 valores e, em seguida, mostrar a posição onde se encontram o maior e o menor valor."
      ]
    },
    {
      "cell_type": "code",
      "metadata": {
        "id": "spTcMc6q3J2g"
      },
      "source": [],
      "execution_count": null,
      "outputs": []
    },
    {
      "cell_type": "markdown",
      "metadata": {
        "id": "syHImu_S3KdL"
      },
      "source": [
        "14. Faça um programa que leia um vetor de 10 posições e verifique se existem valores iguais e os escreva na tela."
      ]
    },
    {
      "cell_type": "code",
      "metadata": {
        "id": "e41DGjA93LS9"
      },
      "source": [],
      "execution_count": null,
      "outputs": []
    },
    {
      "cell_type": "markdown",
      "metadata": {
        "id": "-6pTbUMI3MsQ"
      },
      "source": [
        "15. Leia um vetor com 20 números inteiros. Escreva os elementos do vetor eliminando elementos repetidos.\n"
      ]
    },
    {
      "cell_type": "code",
      "metadata": {
        "id": "o2n1SYkP4d6_"
      },
      "source": [],
      "execution_count": null,
      "outputs": []
    },
    {
      "cell_type": "markdown",
      "metadata": {
        "id": "oSJBm6PP3N3J"
      },
      "source": [
        "16. Faça um programa que leia um vetor de 5 posições para números reais e, depois, um código inteiro. Se o código for zero, finalize o programa; se for 1, mostre o vetor na ordem direta; se for 2, mostre o vetor na ordem inversa. Caso, o código for diferente de 0, 1 e 2 escreva uma mensagem informando que o código é inválido."
      ]
    },
    {
      "cell_type": "code",
      "metadata": {
        "id": "KIOHY6h73OBJ"
      },
      "source": [],
      "execution_count": null,
      "outputs": []
    },
    {
      "cell_type": "markdown",
      "metadata": {
        "id": "lWANQx2n3PJw"
      },
      "source": [
        "17. Leia um vetor de 10 posições e atribua valor 0 para todos os elementos que possuírem valores negativos."
      ]
    },
    {
      "cell_type": "code",
      "metadata": {
        "id": "kc1u8X-H3PjP"
      },
      "source": [],
      "execution_count": null,
      "outputs": []
    },
    {
      "cell_type": "markdown",
      "metadata": {
        "id": "lqDGoFK03Qja"
      },
      "source": [
        "18. Faça um programa que leia um vetor de 10 números. Leia um número x. Conte os múltiplos de um número inteiro x num vetor e mostre-os na tela."
      ]
    },
    {
      "cell_type": "code",
      "metadata": {
        "id": "glJfxebe3Qx0"
      },
      "source": [],
      "execution_count": null,
      "outputs": []
    },
    {
      "cell_type": "markdown",
      "metadata": {
        "id": "dNJlt_ZU3RoK"
      },
      "source": [
        "19. Escreva um programa que leia números inteiros no intervalo [0,50] e os armazene em um vetor com 10 posições. Preencha um segundo vetor apenas com os números ímpares do primeiro vetor. Imprima os dois vetores, 2 elementos por linha."
      ]
    },
    {
      "cell_type": "code",
      "metadata": {
        "id": "IN0gWPY-3RzG"
      },
      "source": [],
      "execution_count": null,
      "outputs": []
    },
    {
      "cell_type": "markdown",
      "metadata": {
        "id": "axN2N9hM3SnF"
      },
      "source": [
        "20. Faça um programa que receba do usuário dois vetores, A e B, com 10 números inteiros cada. Crie um novo vetor denominado C calculando C = A - B. Mostre na tela os dados do vetor C."
      ]
    },
    {
      "cell_type": "code",
      "metadata": {
        "id": "oKXjAooa3SwY"
      },
      "source": [],
      "execution_count": null,
      "outputs": []
    },
    {
      "cell_type": "markdown",
      "metadata": {
        "id": "0v0p8BpM3TiJ"
      },
      "source": [
        "21. Faça um programa que leia dois vetores de 10 posições e calcule outro vetor contendo, nas posições pares os valores do primeiro e nas posições ímpares os valores do segundo."
      ]
    },
    {
      "cell_type": "code",
      "metadata": {
        "id": "5YF28QYl3Tp3"
      },
      "source": [],
      "execution_count": null,
      "outputs": []
    },
    {
      "cell_type": "markdown",
      "metadata": {
        "id": "n4bdh0lT3Uq7"
      },
      "source": [
        "22. Ler dois conjuntos de números reais, armazenando-os em vetores e calcular o produto escalar entre eles. Os conjuntos tem 5 elementos cada. Imprimir os dois conjuntos e o  produto escalar, sendo que o produto escalar é dado por:  x1 ∗ y1 + x2 ∗ y2 + ... + xn ∗ yn."
      ]
    },
    {
      "cell_type": "code",
      "metadata": {
        "id": "V2JM9NWr3U0l"
      },
      "source": [],
      "execution_count": null,
      "outputs": []
    },
    {
      "cell_type": "markdown",
      "metadata": {
        "id": "zv_hWBnJ3VkZ"
      },
      "source": [
        "23. Faça um programa que leia dez conjuntos de dois valores, o primeiro representando o número do aluno e o segundo representando a sua altura em metros. Encontre o aluno mais baixo e o mais alto. Mostre o número do aluno mais baixo e do mais alto, juntamente com suas alturas."
      ]
    },
    {
      "cell_type": "code",
      "metadata": {
        "id": "3cVks9jl3VtX"
      },
      "source": [],
      "execution_count": null,
      "outputs": []
    },
    {
      "cell_type": "markdown",
      "metadata": {
        "id": "RGeI0-8q3WoE"
      },
      "source": [
        "24. Faça um programa que preencha um vetor de tamanho 100 com os 100 primeiros naturais que não são múltiplos de 7 ou que terminam com 7."
      ]
    },
    {
      "cell_type": "code",
      "metadata": {
        "id": "ZS0AsWKX3Wuk"
      },
      "source": [],
      "execution_count": null,
      "outputs": []
    },
    {
      "cell_type": "markdown",
      "metadata": {
        "id": "QGFtKUNc3Xh6"
      },
      "source": [
        "25. Leia 10 números inteiros e armazene em um vetor. Em seguida escreva os elementos que são primos e suas respectivas posições no vetor."
      ]
    },
    {
      "cell_type": "code",
      "metadata": {
        "id": "HznFNGSQ3Xnv"
      },
      "source": [],
      "execution_count": null,
      "outputs": []
    },
    {
      "cell_type": "markdown",
      "metadata": {
        "id": "uRxxUOZq3Y5-"
      },
      "source": [
        "26. Faça um programa que leia dois vetores de 10 elementos. Crie um vetor que seja a intersecção entre os 2 vetores anteriores, ou seja, que contêm apenas os números que estão em ambos os vetores. Não deve conter números repetidos."
      ]
    },
    {
      "cell_type": "code",
      "metadata": {
        "id": "UotPiHnk3ZBA"
      },
      "source": [],
      "execution_count": null,
      "outputs": []
    },
    {
      "cell_type": "markdown",
      "metadata": {
        "id": "_JiUiRHo3aK3"
      },
      "source": [
        "27. Faça um programa que leia dois vetores de 10 elementos. Crie um vetor que seja a união entre os 2 vetores anteriores, ou seja, que contém os números dos dois vetores. Não deve conter números repetidos."
      ]
    },
    {
      "cell_type": "code",
      "metadata": {
        "id": "uAtpkjpN3aS7"
      },
      "source": [],
      "execution_count": null,
      "outputs": []
    },
    {
      "cell_type": "markdown",
      "metadata": {
        "id": "6pcBKjuP3bHV"
      },
      "source": [
        "28. Faça um programa que leia um vetor de 15 posições e o compacte, ou seja, elimine as posições com valor zero. Para isso, todos os elementos à frente do valor zero, devem ser movidos uma posição para trás no vetor."
      ]
    },
    {
      "cell_type": "code",
      "metadata": {
        "id": "QxHRP0U13bOs"
      },
      "source": [],
      "execution_count": null,
      "outputs": []
    },
    {
      "cell_type": "markdown",
      "metadata": {
        "id": "vSdUFMZn3cBI"
      },
      "source": [
        "29. Faça um programa para ler 10 números DIFERENTES a serem armazenados em um vetor. Os dados deverão ser armazenados no vetor na ordem que forem sendo lidos, sendo que caso o usuário digite um número que já foi digitado anteriormente, o programa deverá pedir para ele digitar outro número. Note que cada valor digitado pelo usuário deve ser pesquisado no vetor, verificando se ele existe entre os números que já foram fornecidos. Exibir na tela o vetor final que foi digitado."
      ]
    },
    {
      "cell_type": "code",
      "metadata": {
        "id": "q0ThrY8M3hFs"
      },
      "source": [],
      "execution_count": null,
      "outputs": []
    },
    {
      "cell_type": "markdown",
      "metadata": {
        "id": "qgkthw9w3dSa"
      },
      "source": [
        "30. Faça um programa que leia dois números a e b (positivos menores que 10000) e:\n",
        "• Crie um vetor onde cada posição é um algarismo do número. A primeira posição é\n",
        "o algarismo menos significativo;\n",
        "• Crie um vetor que seja a soma de a e b, mas faça-o usando apenas os vetores\n",
        "construídos anteriormente.\n",
        "Dica: some as posições correspondentes. Se a soma ultrapassar 10, subtraia 10 do\n",
        "resultado e some 1 a próxima posição.\n"
      ]
    },
    {
      "cell_type": "code",
      "metadata": {
        "id": "83_tnouk3cr2"
      },
      "source": [],
      "execution_count": null,
      "outputs": []
    }
  ]
}